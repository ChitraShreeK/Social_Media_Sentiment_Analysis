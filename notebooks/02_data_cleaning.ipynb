{
 "cells": [
  {
   "cell_type": "code",
   "execution_count": 13,
   "id": "10326e36",
   "metadata": {},
   "outputs": [],
   "source": [
    "from pprint import pprint\n",
    "import pandas as pd\n",
    "import numpy as np\n",
    "import matplotlib.pyplot as plt\n",
    "import seaborn as sns\n",
    "import warnings\n",
    "warnings.filterwarnings(\"ignore\")"
   ]
  },
  {
   "cell_type": "code",
   "execution_count": 14,
   "id": "e699bd94",
   "metadata": {},
   "outputs": [
    {
     "data": {
      "text/html": [
       "<div>\n",
       "<style scoped>\n",
       "    .dataframe tbody tr th:only-of-type {\n",
       "        vertical-align: middle;\n",
       "    }\n",
       "\n",
       "    .dataframe tbody tr th {\n",
       "        vertical-align: top;\n",
       "    }\n",
       "\n",
       "    .dataframe thead th {\n",
       "        text-align: right;\n",
       "    }\n",
       "</style>\n",
       "<table border=\"1\" class=\"dataframe\">\n",
       "  <thead>\n",
       "    <tr style=\"text-align: right;\">\n",
       "      <th></th>\n",
       "      <th>type</th>\n",
       "      <th>post_id</th>\n",
       "      <th>title</th>\n",
       "      <th>timestamp</th>\n",
       "      <th>text</th>\n",
       "      <th>score</th>\n",
       "      <th>total_comments</th>\n",
       "      <th>post_url</th>\n",
       "    </tr>\n",
       "  </thead>\n",
       "  <tbody>\n",
       "    <tr>\n",
       "      <th>0</th>\n",
       "      <td>Post</td>\n",
       "      <td>1njvxsb</td>\n",
       "      <td>Sinclair Says Kimmel Suspension is Not Enough,...</td>\n",
       "      <td>1.758161e+09</td>\n",
       "      <td>NaN</td>\n",
       "      <td>15092</td>\n",
       "      <td>1521</td>\n",
       "      <td>https://sbgi.net/sinclair-says-kimmel-suspensi...</td>\n",
       "    </tr>\n",
       "    <tr>\n",
       "      <th>1</th>\n",
       "      <td>comment</td>\n",
       "      <td>1njvxsb</td>\n",
       "      <td>NaN</td>\n",
       "      <td>1.758163e+09</td>\n",
       "      <td>\"Kimmel to make a meaningful personal donation...</td>\n",
       "      <td>776</td>\n",
       "      <td>0</td>\n",
       "      <td>NaN</td>\n",
       "    </tr>\n",
       "    <tr>\n",
       "      <th>2</th>\n",
       "      <td>comment</td>\n",
       "      <td>1njvxsb</td>\n",
       "      <td>NaN</td>\n",
       "      <td>1.758162e+09</td>\n",
       "      <td>This company never addressed [that they had a ...</td>\n",
       "      <td>6337</td>\n",
       "      <td>0</td>\n",
       "      <td>NaN</td>\n",
       "    </tr>\n",
       "    <tr>\n",
       "      <th>3</th>\n",
       "      <td>comment</td>\n",
       "      <td>1njvxsb</td>\n",
       "      <td>NaN</td>\n",
       "      <td>1.758162e+09</td>\n",
       "      <td>And this is why kneeling to totalitarians to s...</td>\n",
       "      <td>1059</td>\n",
       "      <td>0</td>\n",
       "      <td>NaN</td>\n",
       "    </tr>\n",
       "    <tr>\n",
       "      <th>4</th>\n",
       "      <td>comment</td>\n",
       "      <td>1njvxsb</td>\n",
       "      <td>NaN</td>\n",
       "      <td>1.758161e+09</td>\n",
       "      <td>&gt;Sinclair will not lift the suspension of “Ji...</td>\n",
       "      <td>12776</td>\n",
       "      <td>0</td>\n",
       "      <td>NaN</td>\n",
       "    </tr>\n",
       "  </tbody>\n",
       "</table>\n",
       "</div>"
      ],
      "text/plain": [
       "      type  post_id                                              title  \\\n",
       "0     Post  1njvxsb  Sinclair Says Kimmel Suspension is Not Enough,...   \n",
       "1  comment  1njvxsb                                                NaN   \n",
       "2  comment  1njvxsb                                                NaN   \n",
       "3  comment  1njvxsb                                                NaN   \n",
       "4  comment  1njvxsb                                                NaN   \n",
       "\n",
       "      timestamp                                               text  score  \\\n",
       "0  1.758161e+09                                                NaN  15092   \n",
       "1  1.758163e+09  \"Kimmel to make a meaningful personal donation...    776   \n",
       "2  1.758162e+09  This company never addressed [that they had a ...   6337   \n",
       "3  1.758162e+09  And this is why kneeling to totalitarians to s...   1059   \n",
       "4  1.758161e+09   >Sinclair will not lift the suspension of “Ji...  12776   \n",
       "\n",
       "   total_comments                                           post_url  \n",
       "0            1521  https://sbgi.net/sinclair-says-kimmel-suspensi...  \n",
       "1               0                                                NaN  \n",
       "2               0                                                NaN  \n",
       "3               0                                                NaN  \n",
       "4               0                                                NaN  "
      ]
     },
     "execution_count": 14,
     "metadata": {},
     "output_type": "execute_result"
    }
   ],
   "source": [
    "# loading the scraped dataset\n",
    "df = pd.read_csv(\"../data/reddit_tech_raw_data.csv\")\n",
    "df.head()"
   ]
  },
  {
   "cell_type": "code",
   "execution_count": 15,
   "id": "4f81dfe1",
   "metadata": {},
   "outputs": [
    {
     "data": {
      "text/plain": [
       "(14053, 8)"
      ]
     },
     "execution_count": 15,
     "metadata": {},
     "output_type": "execute_result"
    }
   ],
   "source": [
    "df.shape"
   ]
  },
  {
   "cell_type": "code",
   "execution_count": null,
   "id": "d0dbaf97",
   "metadata": {},
   "outputs": [],
   "source": [
    "# creating a copy of dataset\n",
    "df_copy = df.copy()"
   ]
  },
  {
   "cell_type": "code",
   "execution_count": 17,
   "id": "4f881bba",
   "metadata": {},
   "outputs": [
    {
     "data": {
      "text/plain": [
       "(14053, 8)"
      ]
     },
     "execution_count": 17,
     "metadata": {},
     "output_type": "execute_result"
    }
   ],
   "source": [
    "df_copy.shape"
   ]
  },
  {
   "cell_type": "code",
   "execution_count": 18,
   "id": "5abb7daa",
   "metadata": {},
   "outputs": [
    {
     "name": "stdout",
     "output_type": "stream",
     "text": [
      "<class 'pandas.core.frame.DataFrame'>\n",
      "RangeIndex: 14053 entries, 0 to 14052\n",
      "Data columns (total 8 columns):\n",
      " #   Column          Non-Null Count  Dtype  \n",
      "---  ------          --------------  -----  \n",
      " 0   type            14053 non-null  object \n",
      " 1   post_id         14053 non-null  object \n",
      " 2   title           100 non-null    object \n",
      " 3   timestamp       14053 non-null  float64\n",
      " 4   text            13953 non-null  object \n",
      " 5   score           14053 non-null  int64  \n",
      " 6   total_comments  14053 non-null  int64  \n",
      " 7   post_url        100 non-null    object \n",
      "dtypes: float64(1), int64(2), object(5)\n",
      "memory usage: 878.4+ KB\n"
     ]
    }
   ],
   "source": [
    "df_copy.info()"
   ]
  },
  {
   "cell_type": "code",
   "execution_count": 22,
   "id": "7e72888a",
   "metadata": {},
   "outputs": [
    {
     "data": {
      "text/html": [
       "<div>\n",
       "<style scoped>\n",
       "    .dataframe tbody tr th:only-of-type {\n",
       "        vertical-align: middle;\n",
       "    }\n",
       "\n",
       "    .dataframe tbody tr th {\n",
       "        vertical-align: top;\n",
       "    }\n",
       "\n",
       "    .dataframe thead th {\n",
       "        text-align: right;\n",
       "    }\n",
       "</style>\n",
       "<table border=\"1\" class=\"dataframe\">\n",
       "  <thead>\n",
       "    <tr style=\"text-align: right;\">\n",
       "      <th></th>\n",
       "      <th>type</th>\n",
       "      <th>post_id</th>\n",
       "      <th>title</th>\n",
       "      <th>timestamp</th>\n",
       "      <th>text</th>\n",
       "      <th>score</th>\n",
       "      <th>total_comments</th>\n",
       "      <th>post_url</th>\n",
       "    </tr>\n",
       "  </thead>\n",
       "  <tbody>\n",
       "    <tr>\n",
       "      <th>0</th>\n",
       "      <td>Post</td>\n",
       "      <td>1njvxsb</td>\n",
       "      <td>Sinclair Says Kimmel Suspension is Not Enough,...</td>\n",
       "      <td>2025-09-18 01:59:34</td>\n",
       "      <td>NaN</td>\n",
       "      <td>15092</td>\n",
       "      <td>1521</td>\n",
       "      <td>https://sbgi.net/sinclair-says-kimmel-suspensi...</td>\n",
       "    </tr>\n",
       "    <tr>\n",
       "      <th>1</th>\n",
       "      <td>comment</td>\n",
       "      <td>1njvxsb</td>\n",
       "      <td>NaN</td>\n",
       "      <td>2025-09-18 02:30:59</td>\n",
       "      <td>\"Kimmel to make a meaningful personal donation...</td>\n",
       "      <td>776</td>\n",
       "      <td>0</td>\n",
       "      <td>NaN</td>\n",
       "    </tr>\n",
       "    <tr>\n",
       "      <th>2</th>\n",
       "      <td>comment</td>\n",
       "      <td>1njvxsb</td>\n",
       "      <td>NaN</td>\n",
       "      <td>2025-09-18 02:19:32</td>\n",
       "      <td>This company never addressed [that they had a ...</td>\n",
       "      <td>6337</td>\n",
       "      <td>0</td>\n",
       "      <td>NaN</td>\n",
       "    </tr>\n",
       "    <tr>\n",
       "      <th>3</th>\n",
       "      <td>comment</td>\n",
       "      <td>1njvxsb</td>\n",
       "      <td>NaN</td>\n",
       "      <td>2025-09-18 02:13:16</td>\n",
       "      <td>And this is why kneeling to totalitarians to s...</td>\n",
       "      <td>1059</td>\n",
       "      <td>0</td>\n",
       "      <td>NaN</td>\n",
       "    </tr>\n",
       "    <tr>\n",
       "      <th>4</th>\n",
       "      <td>comment</td>\n",
       "      <td>1njvxsb</td>\n",
       "      <td>NaN</td>\n",
       "      <td>2025-09-18 02:02:23</td>\n",
       "      <td>&gt;Sinclair will not lift the suspension of “Ji...</td>\n",
       "      <td>12776</td>\n",
       "      <td>0</td>\n",
       "      <td>NaN</td>\n",
       "    </tr>\n",
       "  </tbody>\n",
       "</table>\n",
       "</div>"
      ],
      "text/plain": [
       "      type  post_id                                              title  \\\n",
       "0     Post  1njvxsb  Sinclair Says Kimmel Suspension is Not Enough,...   \n",
       "1  comment  1njvxsb                                                NaN   \n",
       "2  comment  1njvxsb                                                NaN   \n",
       "3  comment  1njvxsb                                                NaN   \n",
       "4  comment  1njvxsb                                                NaN   \n",
       "\n",
       "            timestamp                                               text  \\\n",
       "0 2025-09-18 01:59:34                                                NaN   \n",
       "1 2025-09-18 02:30:59  \"Kimmel to make a meaningful personal donation...   \n",
       "2 2025-09-18 02:19:32  This company never addressed [that they had a ...   \n",
       "3 2025-09-18 02:13:16  And this is why kneeling to totalitarians to s...   \n",
       "4 2025-09-18 02:02:23   >Sinclair will not lift the suspension of “Ji...   \n",
       "\n",
       "   score  total_comments                                           post_url  \n",
       "0  15092            1521  https://sbgi.net/sinclair-says-kimmel-suspensi...  \n",
       "1    776               0                                                NaN  \n",
       "2   6337               0                                                NaN  \n",
       "3   1059               0                                                NaN  \n",
       "4  12776               0                                                NaN  "
      ]
     },
     "execution_count": 22,
     "metadata": {},
     "output_type": "execute_result"
    }
   ],
   "source": [
    "# fixing the timestamp format\n",
    "df_copy['timestamp'] = pd.to_datetime(df_copy['timestamp'], unit = 's')\n",
    "df_copy.head()"
   ]
  },
  {
   "cell_type": "code",
   "execution_count": 24,
   "id": "dd0adbad",
   "metadata": {},
   "outputs": [
    {
     "name": "stdout",
     "output_type": "stream",
     "text": [
      "<class 'pandas.core.frame.DataFrame'>\n",
      "RangeIndex: 14053 entries, 0 to 14052\n",
      "Data columns (total 8 columns):\n",
      " #   Column          Non-Null Count  Dtype         \n",
      "---  ------          --------------  -----         \n",
      " 0   type            14053 non-null  object        \n",
      " 1   post_id         14053 non-null  object        \n",
      " 2   title           100 non-null    object        \n",
      " 3   timestamp       14053 non-null  datetime64[ns]\n",
      " 4   text            13953 non-null  object        \n",
      " 5   score           14053 non-null  int64         \n",
      " 6   total_comments  14053 non-null  int64         \n",
      " 7   post_url        100 non-null    object        \n",
      "dtypes: datetime64[ns](1), int64(2), object(5)\n",
      "memory usage: 878.4+ KB\n"
     ]
    }
   ],
   "source": [
    "df_copy.info()"
   ]
  },
  {
   "cell_type": "code",
   "execution_count": 23,
   "id": "b7b20e34",
   "metadata": {},
   "outputs": [
    {
     "data": {
      "text/plain": [
       "title             13953\n",
       "post_url          13953\n",
       "text                100\n",
       "type                  0\n",
       "timestamp             0\n",
       "post_id               0\n",
       "score                 0\n",
       "total_comments        0\n",
       "dtype: int64"
      ]
     },
     "execution_count": 23,
     "metadata": {},
     "output_type": "execute_result"
    }
   ],
   "source": [
    "# checking for null values\n",
    "missing_count = df_copy.isnull().sum().sort_values(ascending = False)\n",
    "missing_count"
   ]
  },
  {
   "cell_type": "markdown",
   "id": "41224693",
   "metadata": {},
   "source": [
    "#### About Null Values\n",
    "- `title`and `post_url`columns are only relevant to `posts` since the majority of rows are comments(over 13000) these columns are empty\n",
    "- `text` column is mainly for the `comments` like body of the comments. Posts may have text if they are self-posts but most of the posts contain a title and a link so its showing 100 null values\n",
    "\n",
    "**Action:**\n",
    "- Filling `NaN` values in `text` and `title` columns with empty strings"
   ]
  },
  {
   "cell_type": "code",
   "execution_count": 31,
   "id": "17f433d4",
   "metadata": {},
   "outputs": [],
   "source": [
    "# filling NaN values with the empty strings\n",
    "df_copy['title'] = df_copy['title'].fillna(\" \")\n",
    "df_copy['text'] = df_copy['text'].fillna(\" \")\n",
    "df_copy['post_url'] = df_copy['post_url'].fillna(\" \")"
   ]
  },
  {
   "cell_type": "code",
   "execution_count": 32,
   "id": "c2e52ae8",
   "metadata": {},
   "outputs": [
    {
     "data": {
      "text/html": [
       "<div>\n",
       "<style scoped>\n",
       "    .dataframe tbody tr th:only-of-type {\n",
       "        vertical-align: middle;\n",
       "    }\n",
       "\n",
       "    .dataframe tbody tr th {\n",
       "        vertical-align: top;\n",
       "    }\n",
       "\n",
       "    .dataframe thead th {\n",
       "        text-align: right;\n",
       "    }\n",
       "</style>\n",
       "<table border=\"1\" class=\"dataframe\">\n",
       "  <thead>\n",
       "    <tr style=\"text-align: right;\">\n",
       "      <th></th>\n",
       "      <th>type</th>\n",
       "      <th>title</th>\n",
       "      <th>text</th>\n",
       "      <th>text_to_analyze</th>\n",
       "    </tr>\n",
       "  </thead>\n",
       "  <tbody>\n",
       "    <tr>\n",
       "      <th>0</th>\n",
       "      <td>Post</td>\n",
       "      <td>Sinclair Says Kimmel Suspension is Not Enough,...</td>\n",
       "      <td></td>\n",
       "      <td></td>\n",
       "    </tr>\n",
       "    <tr>\n",
       "      <th>1</th>\n",
       "      <td>comment</td>\n",
       "      <td></td>\n",
       "      <td>\"Kimmel to make a meaningful personal donation...</td>\n",
       "      <td>\"Kimmel to make a meaningful personal donation...</td>\n",
       "    </tr>\n",
       "    <tr>\n",
       "      <th>2</th>\n",
       "      <td>comment</td>\n",
       "      <td></td>\n",
       "      <td>This company never addressed [that they had a ...</td>\n",
       "      <td>This company never addressed [that they had a ...</td>\n",
       "    </tr>\n",
       "    <tr>\n",
       "      <th>3</th>\n",
       "      <td>comment</td>\n",
       "      <td></td>\n",
       "      <td>And this is why kneeling to totalitarians to s...</td>\n",
       "      <td>And this is why kneeling to totalitarians to s...</td>\n",
       "    </tr>\n",
       "    <tr>\n",
       "      <th>4</th>\n",
       "      <td>comment</td>\n",
       "      <td></td>\n",
       "      <td>&gt;Sinclair will not lift the suspension of “Ji...</td>\n",
       "      <td>&gt;Sinclair will not lift the suspension of “Ji...</td>\n",
       "    </tr>\n",
       "  </tbody>\n",
       "</table>\n",
       "</div>"
      ],
      "text/plain": [
       "      type                                              title  \\\n",
       "0     Post  Sinclair Says Kimmel Suspension is Not Enough,...   \n",
       "1  comment                                                      \n",
       "2  comment                                                      \n",
       "3  comment                                                      \n",
       "4  comment                                                      \n",
       "\n",
       "                                                text  \\\n",
       "0                                                      \n",
       "1  \"Kimmel to make a meaningful personal donation...   \n",
       "2  This company never addressed [that they had a ...   \n",
       "3  And this is why kneeling to totalitarians to s...   \n",
       "4   >Sinclair will not lift the suspension of “Ji...   \n",
       "\n",
       "                                     text_to_analyze  \n",
       "0                                                     \n",
       "1  \"Kimmel to make a meaningful personal donation...  \n",
       "2  This company never addressed [that they had a ...  \n",
       "3  And this is why kneeling to totalitarians to s...  \n",
       "4   >Sinclair will not lift the suspension of “Ji...  "
      ]
     },
     "execution_count": 32,
     "metadata": {},
     "output_type": "execute_result"
    }
   ],
   "source": [
    "# for sentiment analysis creating a new column\n",
    "df_copy['text_to_analyze'] = np.where(df_copy['type'] == 'post',\n",
    "                                      df_copy['title'] + \" \" + df_copy['text'],\n",
    "                                      df_copy['text'])\n",
    "\n",
    "df_copy[['type', 'title', 'text', 'text_to_analyze']].head()"
   ]
  },
  {
   "cell_type": "code",
   "execution_count": 34,
   "id": "34f81486",
   "metadata": {},
   "outputs": [
    {
     "name": "stdout",
     "output_type": "stream",
     "text": [
      "Number of Duplicate rows: 0\n"
     ]
    }
   ],
   "source": [
    "# looking for duplicates\n",
    "print(f\"Number of Duplicate rows: {df_copy.duplicated().sum()}\")"
   ]
  },
  {
   "cell_type": "code",
   "execution_count": 35,
   "id": "613671fc",
   "metadata": {},
   "outputs": [
    {
     "data": {
      "text/plain": [
       "True"
      ]
     },
     "execution_count": 35,
     "metadata": {},
     "output_type": "execute_result"
    }
   ],
   "source": [
    "# checking index values are unique or not\n",
    "df_copy.index.is_unique"
   ]
  },
  {
   "cell_type": "code",
   "execution_count": null,
   "id": "cf3c7981",
   "metadata": {},
   "outputs": [
    {
     "name": "stdout",
     "output_type": "stream",
     "text": [
      "Unique Values in 'type' column: ['Post' 'comment']\n",
      "Unique Values in 'post_id' column: ['1njvxsb' '1njsge7' '1nk4y7l' '1njzhsz' '1nk6liz' '1njnb5k' '1nk6kf0'\n",
      " '1nk71zy' '1nk162x' '1nk6a1k' '1njudys' '1njy1f0' '1nk5b5r' '1njl1e8'\n",
      " '1njcwto' '1nk62zw' '1njpx4u' '1njlcqn' '1njnvtb' '1nk71vk' '1njwroc'\n",
      " '1nk9n91' '1nj5c7p' '1njg74h' '1njpn8e' '1nj8nga' '1njt634' '1nk645k'\n",
      " '1nk7ti9' '1njehcn' '1nj60wb' '1nk6z7g' '1njsf93' '1nk6rud' '1njxzyh'\n",
      " '1njfn7m' '1nje623' '1njjfna' '1njb0z8' '1nk7mgk' '1nk4uk7' '1nj91mo'\n",
      " '1nj9t1k' '1njfl5h' '1njt7oc' '1nj36t9' '1nimpmu' '1nka3oi' '1njr8gm'\n",
      " '1niq8kw' '1nk0k09' '1nk33su' '1nitgbv' '1nj837o' '1nk4yng' '1nk6ku5'\n",
      " '1nk3kx5' '1njpfyc' '1nk98wu' '1nj2ijw' '1niravi' '1njzfnf' '1njsh5r'\n",
      " '1njipz3' '1njlvuq' '1nijhk7' '1niy6x5' '1nkawoq' '1njd1ud' '1njk8k6'\n",
      " '1njz2pa' '1nk9lmz' '1njafr7' '1njn6zy' '1ninh61' '1njmgw1' '1njs7p2'\n",
      " '1njohc9' '1nit43o' '1nk6250' '1njhq6y' '1nk5p2e' '1nk5orj' '1njzmd8'\n",
      " '1njgm4m' '1nk8uub' '1njhtqq' '1nic3o4' '1njv2rr' '1njefac' '1nifedk'\n",
      " '1njee4o' '1njn566' '1nj55jl' '1njrtln' '1njojht' '1nk5083' '1niuzhl'\n",
      " '1nis6io' '1nj3dc2']\n"
     ]
    }
   ],
   "source": [
    "# checking for unique values in categorical columns\n",
    "print(f\"Unique Values in 'type' column: {df_copy['type'].unique()}\") # expected 2 unique values 'post' and 'column'\n",
    "print(f\"Unique Values in 'post_id' column: {df_copy['post_id'].unique()}\") # scraped 100 posts and output displayed 100 unique values"
   ]
  },
  {
   "cell_type": "markdown",
   "id": "1d38ff9c",
   "metadata": {},
   "source": [
    "### Text Preprocessing Step\n",
    "- converting all the text to lowercase on the `text_to_analyze` column\n",
    "- removing any urls, emojis, punctuation and special characters\n",
    "- removing any stop words that appear repeatedly but doesn't add any value to the sentence\n",
    "- splitting the body of words to tokens and grouping the similar words and reduce the size of the vocabulary by stemming process"
   ]
  },
  {
   "cell_type": "code",
   "execution_count": null,
   "id": "5cfe0337",
   "metadata": {},
   "outputs": [],
   "source": [
    "import re\n",
    "import nltk\n",
    "from nltk.corpus import stopwords\n",
    "from nltk.stem import PorterStemmer\n",
    "\n",
    "nltk.download('stopwords')\n",
    "nltk.download('punkt')"
   ]
  },
  {
   "cell_type": "code",
   "execution_count": 48,
   "id": "e55586e8",
   "metadata": {},
   "outputs": [
    {
     "name": "stdout",
     "output_type": "stream",
     "text": [
      "                                     text_to_analyze  \\\n",
      "0                                                      \n",
      "1  \"Kimmel to make a meaningful personal donation...   \n",
      "2  This company never addressed [that they had a ...   \n",
      "3  And this is why kneeling to totalitarians to s...   \n",
      "4   >Sinclair will not lift the suspension of “Ji...   \n",
      "5  It. Will. Never. Be. Enough. For. These. Peopl...   \n",
      "6                Well, Sinclair is a far-right turd.   \n",
      "7  Note that Jimmy didn't say anything disparagin...   \n",
      "8  Jimmy Kimmel should walk away; sue Disney for ...   \n",
      "9  Welp, I will never watch ABC again regardless ...   \n",
      "\n",
      "                                        cleaned_text  \n",
      "0                                                     \n",
      "1  kimmel make meaning person donat kirk famili t...  \n",
      "2  compani never address chairman abus virginia g...  \n",
      "3  kneel totalitarian save skin stupid simpli mov...  \n",
      "4  sinclair lift suspens jimmi kimmel live statio...  \n",
      "5  never enough peopl appeas authoritarian polit ...  \n",
      "6                        well sinclair farright turd  \n",
      "7  note jimmi didnt say anyth disparag kirk put j...  \n",
      "8  jimmi kimmel walk away sue disney remaind cont...  \n",
      "9       welp never watch abc regardless happen jimmi  \n"
     ]
    }
   ],
   "source": [
    "stemmer = PorterStemmer()\n",
    "stop_words = set(stopwords.words('english'))\n",
    "\n",
    "# creating a function to clean the text_to_analyze column\n",
    "def clean_text(text):\n",
    "  text = text.lower()   # converting all the text to lower case\n",
    "  text = re.sub(r'http\\S+|www\\S+|@\\w+|#\\w+', '', text)  # removes url, mentions and hashtags\n",
    "  text = re.sub(r'[^a-z\\s]', '', text)  # removes all the punctuation and number only keeps the letters and spaces\n",
    "  text = re.sub(r'\\s+', ' ', text).strip()   # removes the extra whitespaces\n",
    "\n",
    "  tokens = text.split()   # this breaks text to tokens\n",
    "  filtered_stemmed_tokens = [\n",
    "    stemmer.stem(word) for word in tokens if word not in stop_words\n",
    "  ]\n",
    "  cleaned_text = ' '.join(filtered_stemmed_tokens)    # this will join the filtered tokens back to single string\n",
    "\n",
    "  return cleaned_text\n",
    "\n",
    "df_copy['cleaned_text'] = df_copy['text_to_analyze'].apply(clean_text)\n",
    "\n",
    "print(df_copy[['text_to_analyze', 'cleaned_text']].head(10))"
   ]
  },
  {
   "cell_type": "code",
   "execution_count": 49,
   "id": "03002d83",
   "metadata": {},
   "outputs": [],
   "source": [
    "df_copy.to_csv('../data/reddit_tech_cleaned_data.csv', index = False)"
   ]
  },
  {
   "cell_type": "markdown",
   "id": "961ee8e1",
   "metadata": {},
   "source": [
    "#### moving to next step i.e., EDA on SQL(MySQL)"
   ]
  },
  {
   "cell_type": "code",
   "execution_count": null,
   "id": "3ba5d7de",
   "metadata": {},
   "outputs": [],
   "source": []
  }
 ],
 "metadata": {
  "kernelspec": {
   "display_name": "sentiment_env",
   "language": "python",
   "name": "python3"
  },
  "language_info": {
   "codemirror_mode": {
    "name": "ipython",
    "version": 3
   },
   "file_extension": ".py",
   "mimetype": "text/x-python",
   "name": "python",
   "nbconvert_exporter": "python",
   "pygments_lexer": "ipython3",
   "version": "3.12.7"
  }
 },
 "nbformat": 4,
 "nbformat_minor": 5
}
