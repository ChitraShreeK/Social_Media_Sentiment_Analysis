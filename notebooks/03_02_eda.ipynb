{
 "cells": [
  {
   "cell_type": "code",
   "execution_count": 1,
   "id": "e9a4fbfa",
   "metadata": {},
   "outputs": [],
   "source": [
    "import pandas as pd\n",
    "import mysql.connector\n",
    "from dotenv import load_dotenv\n",
    "import os\n",
    "from urllib.parse import quote_plus\n",
    "import numpy as np\n",
    "import matplotlib.pyplot as plt\n",
    "import seaborn as sns\n",
    "from collections import Counter"
   ]
  },
  {
   "cell_type": "code",
   "execution_count": 2,
   "id": "466675d8",
   "metadata": {},
   "outputs": [],
   "source": [
    "load_dotenv()\n",
    "\n",
    "# loading the cleaned data\n",
    "df = pd.read_csv('../data/cleaned_data.csv')\n",
    "\n",
    "df_copy = df.copy()\n",
    "\n",
    "# Filling NaN values with None so SQL can read\n",
    "df_copy = df_copy.replace({pd.NA: None, pd.NaT: None, float('nan'): None})"
   ]
  },
  {
   "cell_type": "code",
   "execution_count": 3,
   "id": "dcac6903",
   "metadata": {},
   "outputs": [],
   "source": [
    "# database connection\n",
    "db_user = os.getenv('DB_USER')\n",
    "db_password = os.getenv('DB_PASSWORD')\n",
    "db_host = os.getenv('DB_HOST')\n",
    "db_name = os.getenv('DB_NAME')\n",
    "\n",
    "password_encoded = quote_plus(db_password)\n",
    "\n",
    "# connecting to MySQL database\n",
    "conn = mysql.connector.connect(\n",
    "  host=db_host,\n",
    "  user=db_user,\n",
    "  password=db_password,\n",
    "  database=db_name\n",
    ")"
   ]
  },
  {
   "cell_type": "code",
   "execution_count": 4,
   "id": "914f021c",
   "metadata": {},
   "outputs": [
    {
     "name": "stdout",
     "output_type": "stream",
     "text": [
      "Data Successfully loaded into MySQL table.\n"
     ]
    }
   ],
   "source": [
    "# converting dataframe to list of tuples to insert into SQL\n",
    "data_tuples = [tuple(x) for x in df_copy.to_numpy()]\n",
    "\n",
    "cursor = conn.cursor()\n",
    "sql = \"INSERT INTO post_and_comment (type, post_id, title, timestamp, text, score, total_comments, post_url, text_to_analyze, cleaned_text) VALUES (%s, %s, %s, %s, %s, %s, %s, %s, %s, %s)\"\n",
    "\n",
    "cursor.executemany(sql, data_tuples)\n",
    "conn.commit()\n",
    "cursor.close()\n",
    "conn.close()\n",
    "\n",
    "print(\"Data Successfully loaded into MySQL table.\")"
   ]
  }
 ],
 "metadata": {
  "kernelspec": {
   "display_name": "sentiment_env",
   "language": "python",
   "name": "python3"
  },
  "language_info": {
   "codemirror_mode": {
    "name": "ipython",
    "version": 3
   },
   "file_extension": ".py",
   "mimetype": "text/x-python",
   "name": "python",
   "nbconvert_exporter": "python",
   "pygments_lexer": "ipython3",
   "version": "3.12.7"
  }
 },
 "nbformat": 4,
 "nbformat_minor": 5
}
