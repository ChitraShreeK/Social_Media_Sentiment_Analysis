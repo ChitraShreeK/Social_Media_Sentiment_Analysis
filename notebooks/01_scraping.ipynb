{
 "cells": [
  {
   "cell_type": "code",
   "execution_count": null,
   "id": "cd7b1117",
   "metadata": {},
   "outputs": [],
   "source": [
    "from pprint import pprint\n",
    "import pandas as pd\n",
    "import numpy as np\n",
    "import matplotlib.pyplot as plt\n",
    "import seaborn as sns\n",
    "import time\n",
    "import warnings\n",
    "warnings.filterwarnings(\"ignore\")\n",
    "import os\n",
    "from dotenv import load_dotenv"
   ]
  },
  {
   "cell_type": "code",
   "execution_count": null,
   "id": "a0bfaf74",
   "metadata": {},
   "outputs": [],
   "source": [
    "load_dotenv()\n",
    "\n",
    "import praw\n",
    "\n",
    "client_id = os.getenv('REDDIT_CLIENT_ID')\n",
    "client_secret = os.getenv('REDDIT_CLIENT_SECRET')\n",
    "user_agent = \"TechSentimentApp\"\n",
    "\n",
    "# initializing Reddit instance\n",
    "reddit = praw.Reddit(\n",
    "  client_id = client_id,\n",
    "  client_secret = client_secret,\n",
    "  user_agent = user_agent\n",
    ")"
   ]
  },
  {
   "cell_type": "code",
   "execution_count": null,
   "id": "4efbde5f",
   "metadata": {},
   "outputs": [],
   "source": [
    "# Subreddit to scrape\n",
    "subreddit = reddit.subreddit(\"technology\")\n",
    "\n",
    "# displaying the name of subreddit\n",
    "print(\"Display Name:\", subreddit.display_name)\n",
    "\n",
    "# displaying the title of subreddit\n",
    "print(\"Title:\", subreddit.title)\n",
    "\n",
    "# displaying the description of subreddit\n",
    "print(\"Description:\", subreddit.description)"
   ]
  },
  {
   "cell_type": "code",
   "execution_count": null,
   "id": "1895664a",
   "metadata": {},
   "outputs": [],
   "source": [
    "# creating a empty lists to store data\n",
    "reddit_data = []\n",
    "\n",
    "# scrapping top posts and comments\n",
    "for post in subreddit.hot(limit = 100):\n",
    "  reddit_data.append({\n",
    "    'type': 'Post',\n",
    "    'post_id': post.id,\n",
    "    'title': post.title,\n",
    "    'timestamp': post.created_utc,\n",
    "    'text': post.selftext,\n",
    "    'score': post.score,\n",
    "    'total_comments': post.num_comments,\n",
    "    'post_url':post.url\n",
    "  })\n",
    "\n",
    "  # checking if the post has comments\n",
    "  if post.num_comments > 0:\n",
    "    #scrapping comments from each posts\n",
    "    post.comments.replace_more(limit = 5)\n",
    "    for comment in post.comments.list():\n",
    "      reddit_data.append({\n",
    "        'type': 'comment',\n",
    "        'post_id': post.id,\n",
    "        'title': None,\n",
    "        'timestamp': comment.created_utc,\n",
    "        'text': comment.body,\n",
    "        'score': comment.score,\n",
    "        'total_comments': 0,\n",
    "        'post_url': None\n",
    "      })\n",
    "  # delay between requests to avoid rate limiting\n",
    "  time.sleep(2)\n",
    "\n",
    "# Creating pandas Dataframe for posts and comments\n",
    "technology_data = pd.DataFrame(reddit_data)\n",
    "technology_data"
   ]
  },
  {
   "cell_type": "code",
   "execution_count": null,
   "id": "1a07ea37",
   "metadata": {},
   "outputs": [],
   "source": [
    "technology_data.to_csv(\"../data/reddit_tech_raw_data.csv\", index = False)"
   ]
  },
  {
   "cell_type": "markdown",
   "id": "05f84e53",
   "metadata": {},
   "source": [
    "##### Overall details:\n",
    "- Successfully connected to the Reddit API\n",
    "- Scraped 100 hot posts from the r/technology subreddit\n",
    "- Retrieved top 5 comments for each of those posts"
   ]
  },
  {
   "cell_type": "code",
   "execution_count": null,
   "id": "75358fe2",
   "metadata": {},
   "outputs": [],
   "source": []
  }
 ],
 "metadata": {
  "kernelspec": {
   "display_name": "senti_analysis",
   "language": "python",
   "name": "python3"
  },
  "language_info": {
   "codemirror_mode": {
    "name": "ipython",
    "version": 3
   },
   "file_extension": ".py",
   "mimetype": "text/x-python",
   "name": "python",
   "nbconvert_exporter": "python",
   "pygments_lexer": "ipython3",
   "version": "3.12.7"
  }
 },
 "nbformat": 4,
 "nbformat_minor": 5
}
