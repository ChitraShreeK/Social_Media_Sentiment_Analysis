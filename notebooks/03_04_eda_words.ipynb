{
 "cells": [
  {
   "cell_type": "markdown",
   "id": "c137b09f",
   "metadata": {},
   "source": [
    "##### before this visit eda_queries.sql to see the complete EDA\n",
    "**Finding the common words**"
   ]
  },
  {
   "cell_type": "code",
   "execution_count": 2,
   "id": "a7342c53",
   "metadata": {},
   "outputs": [],
   "source": [
    "import pandas as pd\n",
    "import mysql.connector\n",
    "from dotenv import load_dotenv\n",
    "import os\n",
    "from collections import Counter\n",
    "import re\n",
    "import nltk\n",
    "from nltk import ngrams\n",
    "from nltk.corpus import stopwords\n",
    "from nltk.stem import PorterStemmer\n",
    "from urllib.parse import quote_plus"
   ]
  },
  {
   "cell_type": "code",
   "execution_count": 3,
   "id": "d560d9c1",
   "metadata": {},
   "outputs": [
    {
     "data": {
      "text/plain": [
       "True"
      ]
     },
     "execution_count": 3,
     "metadata": {},
     "output_type": "execute_result"
    }
   ],
   "source": [
    "load_dotenv()"
   ]
  },
  {
   "cell_type": "code",
   "execution_count": 4,
   "id": "35820180",
   "metadata": {},
   "outputs": [],
   "source": [
    "# database connection\n",
    "db_user = os.getenv('DB_USER')\n",
    "db_password = os.getenv('DB_PASSWORD')\n",
    "db_host = os.getenv('DB_HOST')\n",
    "db_name = os.getenv('DB_NAME')\n",
    "\n",
    "password_encoded = quote_plus(db_password)\n",
    "\n",
    "# connecting to MySQL database\n",
    "conn = mysql.connector.connect(\n",
    "  host=db_host,\n",
    "  user=db_user,\n",
    "  password=db_password,\n",
    "  database=db_name\n",
    ")"
   ]
  },
  {
   "cell_type": "code",
   "execution_count": null,
   "id": "d9a844cd",
   "metadata": {},
   "outputs": [],
   "source": [
    "# creating query to get the most used words from relevant column\n",
    "query = \"SELECT cleaned_text FROM post_and_comment WHERE cleaned_text != '';\"\n",
    "df = pd.read_sql(query, conn)\n",
    "\n",
    "conn.close()"
   ]
  },
  {
   "cell_type": "code",
   "execution_count": 6,
   "id": "44fb8890",
   "metadata": {},
   "outputs": [
    {
     "name": "stdout",
     "output_type": "stream",
     "text": [
      "[('trump', 5520), ('compani', 3936), ('govern', 3928), ('everi', 3232), ('reddit', 3224), ('anyth', 3216), ('free', 3208), ('new', 3208), ('come', 3200), ('china', 3144), ('game', 3128), ('alreadi', 3120), ('ai', 3112), ('media', 3080), ('didnt', 3072), ('countri', 3048), ('news', 3024), ('isnt', 3024), ('got', 3000), ('sure', 3000), ('day', 2984), ('call', 2960), ('american', 2960), ('show', 2952), ('start', 2912), ('state', 2904), ('ad', 2904), ('someth', 2896), ('first', 2896), ('let', 2864), ('lot', 2856), ('ban', 2856), ('control', 2832), ('power', 2824), ('give', 2784), ('mani', 2760), ('money', 2752), ('tiktok', 2744), ('guy', 2696), ('bad', 2688), ('buy', 2680), ('reason', 2608), ('person', 2576), ('better', 2568), ('run', 2544), ('feel', 2536), ('polit', 2512), ('vote', 2512), ('speech', 2488), ('keep', 2448)]\n"
     ]
    }
   ],
   "source": [
    "# earlier in the code used 'PorterStemmer' and joined all 'cleaned_text' into one gaint string and then split them into tokens so the word count is big\n",
    "# removing stopwords to reduce noise words\n",
    "\n",
    "stop_words = set(stopwords.words('english'))\n",
    "\n",
    "custom_stopwords = {\n",
    "    'peopl', 'like', 'get', 'dont', 'go', 'one', 'use', 'us', 'make', 'would', 'even',\n",
    "    'want', 'time', 'think', 'im', 'right', 'need', 'thing', 'know', 'say', 'fuck',\n",
    "    'year', 'that', 'also', 'way', 'work', 'tri', 'see', 'good', 'actual', 'still',\n",
    "    'much', 'cant', 'realli', 'theyr', 'well', 'never', 'take', 'doesnt', 'could',\n",
    "    'look', 'mean', 'happen', 'back', 'shit', 'car', 'point', 'said'\n",
    "}\n",
    "\n",
    "all_stopwords = stop_words.union(custom_stopwords)\n",
    "\n",
    "# combining all words\n",
    "all_words = \" \".join(df['cleaned_text']).split()\n",
    "\n",
    "filtered_words = [w for w in all_words if w not in all_stopwords]\n",
    "\n",
    "# counting frequency\n",
    "word_freq = Counter(filtered_words)\n",
    "print(word_freq.most_common(50))"
   ]
  },
  {
   "cell_type": "code",
   "execution_count": 7,
   "id": "e1d6b7aa",
   "metadata": {},
   "outputs": [
    {
     "name": "stdout",
     "output_type": "stream",
     "text": [
      "[(('free', 'speech'), 1496), (('social', 'media'), 1096), (('charli', 'kirk'), 888), (('fox', 'news'), 848), (('cancel', 'disney'), 680), (('new', 'app'), 624), (('first', 'amend'), 616), (('jimmi', 'kimmel'), 448), (('unit', 'state'), 448), (('door', 'handl'), 448), (('read', 'articl'), 424), (('freedom', 'speech'), 392), (('video', 'game'), 392), (('cancel', 'cultur'), 376), (('epstein', 'file'), 360), (('truth', 'social'), 360), (('everi', 'singl'), 336), (('everyon', 'els'), 336), (('ive', 'seen'), 320), (('tik', 'tok'), 320), (('open', 'door'), 304), (('donald', 'trump'), 272), (('st', 'amend'), 256), (('media', 'compani'), 256), (('peter', 'thiel'), 256), (('first', 'place'), 256), (('fcc', 'chair'), 248), (('rest', 'world'), 240), (('domest', 'terror'), 240), (('disney', 'subscript'), 232), (('everi', 'day'), 232), (('suprem', 'court'), 208), (('someon', 'els'), 208), (('left', 'wing'), 200), (('anyth', 'els'), 200), (('due', 'process'), 200), (('rfk', 'jr'), 200), (('roll', 'stone'), 200), (('kirk', 'famili'), 192), (('didnt', 'anyth'), 192), (('north', 'korea'), 192), (('late', 'night'), 192), (('ban', 'vpn'), 192), (('door', 'open'), 192), (('vast', 'major'), 192), (('polit', 'violenc'), 184), (('bend', 'knee'), 184), (('content', 'creator'), 184), (('month', 'ago'), 184), (('feder', 'govern'), 184)]\n"
     ]
    }
   ],
   "source": [
    "# using bigrams to get much more useful words\n",
    "\n",
    "bigrams = ngrams(filtered_words, 2)\n",
    "bigrams_freq = Counter(bigrams)\n",
    "\n",
    "print(bigrams_freq.most_common(50))"
   ]
  },
  {
   "cell_type": "code",
   "execution_count": 8,
   "id": "61ad0d74",
   "metadata": {},
   "outputs": [
    {
     "data": {
      "image/png": "[encoded data removed]",
      "text/plain": [
       "<Figure size 1000x600 with 1 Axes>"
      ]
     },
     "metadata": {},
     "output_type": "display_data"
    }
   ],
   "source": [
    "import matplotlib.pyplot as plt\n",
    "\n",
    "top_words = word_freq.most_common(20)\n",
    "words, counts = zip(*top_words)\n",
    "\n",
    "plt.figure(figsize=(10,6))\n",
    "plt.bar(words, counts)\n",
    "plt.xticks(rotation=45)\n",
    "plt.title(\"Top 20 Most Common Words\")\n",
    "plt.show()"
   ]
  },
  {
   "cell_type": "markdown",
   "id": "4153ea8a",
   "metadata": {},
   "source": [
    "- **scrapped data from r/technology subreddit hot posts covers wide range of topics. Its clear based on the value counts**\n",
    "- **Noticed few topics marked wrong even though there is nothing related to AI/Privacy. So refining the keywords also along with the AI, Privacy adding one more keyword is 'political' as these posts major discussion is about political view**"
   ]
  },
  {
   "cell_type": "code",
   "execution_count": 9,
   "id": "60922af1",
   "metadata": {},
   "outputs": [],
   "source": [
    "stemmer = PorterStemmer()\n",
    "\n",
    "ai_keywords_full = {\n",
    "  \"ai\", \"artificial intelligence\", \"chatgpt\", \"gpt\", \"openai\", \"bard\", \"gemini\", \n",
    "  \"llm\", \"large language model\", \"deep learning\", \"machine learning\", \"neural network\",\n",
    "  \"automation\", \"autonomous\", \"robot\", \"robotics\", \"training data\", \"generative\", \"stable diffusion\"\n",
    "}\n",
    "\n",
    "privacy_keywords_full = {\n",
    "  \"privacy\", \"personal data\", \"data breach\", \"data leak\", \"data protection\",\n",
    "  \"surveillance\", \"facial recognition\", \"cctv\", \"anonymity\", \"tracking\",\n",
    "  \"vpn\", \"proxy\", \"encryption\", \"cybersecurity\", \"hacking\", \"hack\",\n",
    "  \"identity theft\", \"gdpr\", \"cambridge analytica\", \"metadata\"\n",
    "}\n",
    "\n",
    "political_keywords_full = {\n",
    "  \"trump\", \"biden\", \"president\", \"government\", \"administration\", \n",
    "  \"senate\", \"congress\", \"democrat\", \"republican\", \"gop\", \n",
    "  \"left wing\", \"right wing\", \"maga\", \"politics\", \"election\", \n",
    "  \"vote\", \"voting\", \"campaign\", \"policy\", \"law\", \"legislation\", \n",
    "  \"supreme court\", \"governor\", \"senator\", \"congressman\", \"politician\", \n",
    "  \"dictatorship\", \"fascism\", \"authoritarian\", \"freedom of speech\", \n",
    "  \"first amendment\", \"constitution\"\n",
    "}\n",
    "\n",
    "# using stem to get the accurate match\n",
    "ai_keywords_stemmed = {stemmer.stem(k) for k in ai_keywords_full}\n",
    "privacy_keywords_stemmed = {stemmer.stem(k) for k in privacy_keywords_full}\n",
    "political_keywords_stemmed = {stemmer.stem(k) for k in political_keywords_full}\n",
    "\n",
    "def tag_topic_stemmed(text):\n",
    "  if not isinstance(text, str):\n",
    "    return \"Other Concern Related\"\n",
    "  \n",
    "  text_words = set(text.lower().split())\n",
    "\n",
    "  ai_match = not text_words.isdisjoint(ai_keywords_stemmed)\n",
    "  pr_match = not text_words.isdisjoint(privacy_keywords_stemmed)\n",
    "  political_match = not text_words.isdisjoint(political_keywords_stemmed)\n",
    "\n",
    "  if ai_match and pr_match:\n",
    "    return \"AI and Privacy Related\"\n",
    "  if pr_match and political_match:\n",
    "    return \"Privacy and Political Related\"\n",
    "  if ai_match:\n",
    "    return \"AI Related\"\n",
    "  if pr_match:\n",
    "    return \"Privacy Related\"\n",
    "  if political_match:\n",
    "    return \"Political Related\"\n",
    "  \n",
    "  return \"Other Concern Related\"\n",
    "\n",
    "df['topic'] = df['cleaned_text'].apply(tag_topic_stemmed)"
   ]
  },
  {
   "cell_type": "code",
   "execution_count": 10,
   "id": "c0687349",
   "metadata": {},
   "outputs": [
    {
     "data": {
      "text/html": [
       "<div>\n",
       "<style scoped>\n",
       "    .dataframe tbody tr th:only-of-type {\n",
       "        vertical-align: middle;\n",
       "    }\n",
       "\n",
       "    .dataframe tbody tr th {\n",
       "        vertical-align: top;\n",
       "    }\n",
       "\n",
       "    .dataframe thead th {\n",
       "        text-align: right;\n",
       "    }\n",
       "</style>\n",
       "<table border=\"1\" class=\"dataframe\">\n",
       "  <thead>\n",
       "    <tr style=\"text-align: right;\">\n",
       "      <th></th>\n",
       "      <th>cleaned_text</th>\n",
       "      <th>topic</th>\n",
       "    </tr>\n",
       "  </thead>\n",
       "  <tbody>\n",
       "    <tr>\n",
       "      <th>0</th>\n",
       "      <td>kimmel make meaning person donat kirk famili t...</td>\n",
       "      <td>Other Concern Related</td>\n",
       "    </tr>\n",
       "    <tr>\n",
       "      <th>1</th>\n",
       "      <td>compani never address chairman abus virginia g...</td>\n",
       "      <td>Other Concern Related</td>\n",
       "    </tr>\n",
       "    <tr>\n",
       "      <th>2</th>\n",
       "      <td>kneel totalitarian save skin stupid simpli mov...</td>\n",
       "      <td>Other Concern Related</td>\n",
       "    </tr>\n",
       "    <tr>\n",
       "      <th>3</th>\n",
       "      <td>sinclair lift suspens jimmi kimmel live statio...</td>\n",
       "      <td>Other Concern Related</td>\n",
       "    </tr>\n",
       "    <tr>\n",
       "      <th>4</th>\n",
       "      <td>never enough peopl appeas authoritarian polit ...</td>\n",
       "      <td>Political Related</td>\n",
       "    </tr>\n",
       "    <tr>\n",
       "      <th>5</th>\n",
       "      <td>well sinclair farright turd</td>\n",
       "      <td>Other Concern Related</td>\n",
       "    </tr>\n",
       "    <tr>\n",
       "      <th>6</th>\n",
       "      <td>note jimmi didnt say anyth disparag kirk put j...</td>\n",
       "      <td>Political Related</td>\n",
       "    </tr>\n",
       "    <tr>\n",
       "      <th>7</th>\n",
       "      <td>jimmi kimmel walk away sue disney remaind cont...</td>\n",
       "      <td>Other Concern Related</td>\n",
       "    </tr>\n",
       "    <tr>\n",
       "      <th>8</th>\n",
       "      <td>welp never watch abc regardless happen jimmi</td>\n",
       "      <td>Other Concern Related</td>\n",
       "    </tr>\n",
       "    <tr>\n",
       "      <th>9</th>\n",
       "      <td>guy america fuck</td>\n",
       "      <td>Other Concern Related</td>\n",
       "    </tr>\n",
       "    <tr>\n",
       "      <th>10</th>\n",
       "      <td>sinclair like nexstar conglomer basic everi ra...</td>\n",
       "      <td>Other Concern Related</td>\n",
       "    </tr>\n",
       "    <tr>\n",
       "      <th>11</th>\n",
       "      <td>never capitul fascist second give inch demand ...</td>\n",
       "      <td>Other Concern Related</td>\n",
       "    </tr>\n",
       "    <tr>\n",
       "      <th>12</th>\n",
       "      <td>sinclair danger democraci</td>\n",
       "      <td>Other Concern Related</td>\n",
       "    </tr>\n",
       "    <tr>\n",
       "      <th>13</th>\n",
       "      <td>special remembr charli kirk fuck blogger hatem...</td>\n",
       "      <td>Political Related</td>\n",
       "    </tr>\n",
       "    <tr>\n",
       "      <th>14</th>\n",
       "      <td>cancel hulu disney</td>\n",
       "      <td>Other Concern Related</td>\n",
       "    </tr>\n",
       "    <tr>\n",
       "      <th>15</th>\n",
       "      <td>sinclair heavili respons wave nazi shit take c...</td>\n",
       "      <td>Political Related</td>\n",
       "    </tr>\n",
       "    <tr>\n",
       "      <th>16</th>\n",
       "      <td>happen succumb fascism</td>\n",
       "      <td>Political Related</td>\n",
       "    </tr>\n",
       "    <tr>\n",
       "      <th>17</th>\n",
       "      <td>wonder sinclair bought station throughout year...</td>\n",
       "      <td>Other Concern Related</td>\n",
       "    </tr>\n",
       "    <tr>\n",
       "      <th>18</th>\n",
       "      <td>didnt say shit charli kirk said shit maga foll...</td>\n",
       "      <td>Political Related</td>\n",
       "    </tr>\n",
       "    <tr>\n",
       "      <th>19</th>\n",
       "      <td>noth short declar maga terrorist throw jail co...</td>\n",
       "      <td>Political Related</td>\n",
       "    </tr>\n",
       "  </tbody>\n",
       "</table>\n",
       "</div>"
      ],
      "text/plain": [
       "                                         cleaned_text                  topic\n",
       "0   kimmel make meaning person donat kirk famili t...  Other Concern Related\n",
       "1   compani never address chairman abus virginia g...  Other Concern Related\n",
       "2   kneel totalitarian save skin stupid simpli mov...  Other Concern Related\n",
       "3   sinclair lift suspens jimmi kimmel live statio...  Other Concern Related\n",
       "4   never enough peopl appeas authoritarian polit ...      Political Related\n",
       "5                         well sinclair farright turd  Other Concern Related\n",
       "6   note jimmi didnt say anyth disparag kirk put j...      Political Related\n",
       "7   jimmi kimmel walk away sue disney remaind cont...  Other Concern Related\n",
       "8        welp never watch abc regardless happen jimmi  Other Concern Related\n",
       "9                                    guy america fuck  Other Concern Related\n",
       "10  sinclair like nexstar conglomer basic everi ra...  Other Concern Related\n",
       "11  never capitul fascist second give inch demand ...  Other Concern Related\n",
       "12                          sinclair danger democraci  Other Concern Related\n",
       "13  special remembr charli kirk fuck blogger hatem...      Political Related\n",
       "14                                 cancel hulu disney  Other Concern Related\n",
       "15  sinclair heavili respons wave nazi shit take c...      Political Related\n",
       "16                             happen succumb fascism      Political Related\n",
       "17  wonder sinclair bought station throughout year...  Other Concern Related\n",
       "18  didnt say shit charli kirk said shit maga foll...      Political Related\n",
       "19  noth short declar maga terrorist throw jail co...      Political Related"
      ]
     },
     "execution_count": 10,
     "metadata": {},
     "output_type": "execute_result"
    }
   ],
   "source": [
    "df[['cleaned_text', 'topic']].head(20)"
   ]
  },
  {
   "cell_type": "code",
   "execution_count": 11,
   "id": "d1a5ee35",
   "metadata": {},
   "outputs": [
    {
     "data": {
      "text/plain": [
       "topic\n",
       "Other Concern Related            86992\n",
       "Political Related                17768\n",
       "AI Related                        4080\n",
       "Privacy Related                   1688\n",
       "Privacy and Political Related      512\n",
       "AI and Privacy Related             152\n",
       "Name: count, dtype: int64"
      ]
     },
     "execution_count": 11,
     "metadata": {},
     "output_type": "execute_result"
    }
   ],
   "source": [
    "df['topic'].value_counts()"
   ]
  },
  {
   "cell_type": "code",
   "execution_count": 12,
   "id": "9b566ab0",
   "metadata": {},
   "outputs": [],
   "source": [
    "# the above method covered most of the topics but few words might be aligned with the above method so using n-grams and synonym expression along with the stemmed method to see how many words can be captured\n",
    "\n",
    "stemmer = PorterStemmer()\n",
    "\n",
    "# keywords\n",
    "ai_keywords_full = {\n",
    "    \"ai\", \"artificial intelligence\", \"chatgpt\", \"gpt\", \"openai\", \"bard\", \"gemini\", \n",
    "    \"llm\", \"large language model\", \"deep learning\", \"machine learning\", \"ml\",\n",
    "    \"neural network\", \"automation\", \"autonomous\", \"robot\", \"robotics\", \"training data\", \n",
    "    \"generative\", \"stable diffusion\", \"deepfake\", \"ai tool\", \"ai model\"\n",
    "}\n",
    "\n",
    "privacy_keywords_full = {\n",
    "    \"privacy\", \"personal data\", \"data breach\", \"data leak\", \"data protection\",\n",
    "    \"surveillance\", \"facial recognition\", \"cctv\", \"anonymity\", \"tracking\",\n",
    "    \"vpn\", \"proxy\", \"encryption\", \"cybersecurity\", \"hacking\", \"hack\",\n",
    "    \"identity theft\", \"gdpr\", \"cambridge analytica\", \"metadata\",\n",
    "    \"cyberattack\", \"privacy law\"\n",
    "}\n",
    "\n",
    "political_keywords_full = {\n",
    "    \"trump\", \"biden\", \"president\", \"government\", \"administration\", \n",
    "    \"senate\", \"senator\", \"congress\", \"congressman\", \"democrat\", \"republican\", \"gop\", \n",
    "    \"left wing\", \"right wing\", \"maga\", \"politics\", \"election\", \n",
    "    \"vote\", \"voting\", \"campaign\", \"policy\", \"law\", \"legislation\", \n",
    "    \"supreme court\", \"governor\", \"politician\", \n",
    "    \"dictatorship\", \"fascism\", \"authoritarian\", \"freedom of speech\", \n",
    "    \"first amendment\", \"constitution\"\n",
    "}\n",
    "\n",
    "# converting to lowercase, tokenize, stem and generating n-grams\n",
    "def preprocess_stem(text):\n",
    "  if not isinstance(text, str):\n",
    "    return set()\n",
    "  \n",
    "  words = text.lower().split()\n",
    "  stems = [stemmer.stem(w) for w in words]\n",
    "\n",
    "  # adding bigrams and trigrams phrase detection\n",
    "  for n in [2, 3]:\n",
    "    grams = ngrams(words, n)\n",
    "    stems.extend([\" \".join(g) for g in grams])\n",
    "\n",
    "  return set(stems)\n",
    "\n",
    "# applying stemming and keeping multiword pharses\n",
    "def stem_keywords(keywords):\n",
    "  stemmed = set()\n",
    "  for k in keywords:\n",
    "    if \" \" in k:\n",
    "      stemmed.add(k.lower())\n",
    "    else:\n",
    "      stemmed.add(stemmer.stem(k.lower()))\n",
    "\n",
    "  return stemmed\n",
    "\n",
    "ai_keywords_stemmed = stem_keywords(ai_keywords_full)\n",
    "privacy_keywords_stemmed = stem_keywords(privacy_keywords_full)\n",
    "political_keywords_stemmed = stem_keywords(political_keywords_full)\n",
    "\n",
    "def tag_topic_new_stemmed(text):\n",
    "  tokens = preprocess_stem(text)\n",
    "\n",
    "  ai_match = not tokens.isdisjoint(ai_keywords_stemmed)\n",
    "  pr_match = not tokens.isdisjoint(privacy_keywords_stemmed)\n",
    "  political_match = not tokens.isdisjoint(political_keywords_stemmed)\n",
    "\n",
    "  if ai_match and pr_match:\n",
    "    return \"AI and Privacy Related\"\n",
    "  if pr_match and political_match:\n",
    "    return \"Privacy and Political Related\"\n",
    "  if ai_match:\n",
    "    return \"AI Related\"\n",
    "  if pr_match:\n",
    "    return \"Privacy Related\"\n",
    "  if political_match:\n",
    "    return \"Political Related\"\n",
    "  return \"Other Concern Related\"\n",
    "\n",
    "df['topic'] = df['cleaned_text'].apply(tag_topic_new_stemmed)"
   ]
  },
  {
   "cell_type": "code",
   "execution_count": 13,
   "id": "de4b3cde",
   "metadata": {},
   "outputs": [
    {
     "data": {
      "text/plain": [
       "topic\n",
       "Other Concern Related            86336\n",
       "Political Related                18408\n",
       "AI Related                        4088\n",
       "Privacy Related                   1680\n",
       "Privacy and Political Related      528\n",
       "AI and Privacy Related             152\n",
       "Name: count, dtype: int64"
      ]
     },
     "execution_count": 13,
     "metadata": {},
     "output_type": "execute_result"
    }
   ],
   "source": [
    "df['topic'].value_counts()"
   ]
  },
  {
   "cell_type": "markdown",
   "id": "1fea2d27",
   "metadata": {},
   "source": [
    "**after adding the n-grams and synonyms there are some small changes like `Political Related` went up and there is a slight decrease in the `Other Concern Related` so keeping this new approach as final**"
   ]
  },
  {
   "cell_type": "code",
   "execution_count": 14,
   "id": "2717073a",
   "metadata": {},
   "outputs": [
    {
     "name": "stdout",
     "output_type": "stream",
     "text": [
      "TEXT: actual one foundat pillar us\n",
      "TOPIC: Other Concern Related\n",
      "MATCHES: {'AI': set(), 'Privacy': set(), 'Political': set()}\n",
      "                                                            \n",
      "TEXT: mayb think trump antichrist here websit list way align\n",
      "TOPIC: Political Related\n",
      "MATCHES: {'AI': set(), 'Privacy': set(), 'Political': {'trump'}}\n",
      "                                                            \n",
      "TEXT: oracl protrumpproconserv corpor go would consid align actual govern offici get board seat larri ellison founderchairman donat million rep campaign hel\n",
      "TOPIC: Political Related\n",
      "MATCHES: {'AI': set(), 'Privacy': set(), 'Political': {'trump', 'campaign', 'elect', 'govern'}}\n",
      "                                                            \n",
      "TEXT: sinclair want admin approv\n",
      "TOPIC: Other Concern Related\n",
      "MATCHES: {'AI': set(), 'Privacy': set(), 'Political': set()}\n",
      "                                                            \n",
      "TEXT: funni look top post conserv subreddit major top post hand peopl sub million member\n",
      "TOPIC: Other Concern Related\n",
      "MATCHES: {'AI': set(), 'Privacy': set(), 'Political': set()}\n",
      "                                                            \n",
      "TEXT: k kill write internet nobodi stop\n",
      "TOPIC: Other Concern Related\n",
      "MATCHES: {'AI': set(), 'Privacy': set(), 'Political': set()}\n",
      "                                                            \n",
      "TEXT: would amaz came prepar ream data testimoni user quot right wing extremist place platform\n",
      "TOPIC: Political Related\n",
      "MATCHES: {'AI': set(), 'Privacy': set(), 'Political': {'right wing'}}\n",
      "                                                            \n",
      "TEXT: steve laugh\n",
      "TOPIC: Other Concern Related\n",
      "MATCHES: {'AI': set(), 'Privacy': set(), 'Political': set()}\n",
      "                                                            \n",
      "TEXT: everi sub polit technolog\n",
      "TOPIC: Political Related\n",
      "MATCHES: {'AI': set(), 'Privacy': set(), 'Political': {'polit'}}\n",
      "                                                            \n",
      "TEXT: dialogu among host fox friend believ discuss iryna zarutsuka stab lawrenc jone mention homeless mental ill wont accept help apprehend brian kilmead re\n",
      "TOPIC: Other Concern Related\n",
      "MATCHES: {'AI': set(), 'Privacy': set(), 'Political': set()}\n",
      "                                                            \n"
     ]
    }
   ],
   "source": [
    "# verifying the tags\n",
    "def explain_tagging(text):\n",
    "  tokens = preprocess_stem(text)\n",
    "  matches = {\n",
    "    \"AI\": tokens.intersection(ai_keywords_stemmed),\n",
    "    \"Privacy\": tokens.intersection(privacy_keywords_stemmed),\n",
    "    \"Political\": tokens.intersection(political_keywords_stemmed)\n",
    "  }\n",
    "  return matches\n",
    "\n",
    "for i, row in df.sample(10, random_state = 42).iterrows():\n",
    "  print(\"TEXT:\", row['cleaned_text'][:150])\n",
    "  print(\"TOPIC:\", row['topic'])\n",
    "  print(\"MATCHES:\", explain_tagging(row['cleaned_text']))\n",
    "  print(\" \"*60)"
   ]
  },
  {
   "cell_type": "code",
   "execution_count": 15,
   "id": "bd3307cc",
   "metadata": {},
   "outputs": [],
   "source": [
    "# saving the dataframe to use this in the next step for sentiment analysis\n",
    "df.to_csv('../data/processed_reddit_data.csv', index = False)"
   ]
  },
  {
   "cell_type": "code",
   "execution_count": null,
   "id": "afb11a0d",
   "metadata": {},
   "outputs": [],
   "source": []
  }
 ],
 "metadata": {
  "kernelspec": {
   "display_name": "sentiment_env",
   "language": "python",
   "name": "python3"
  },
  "language_info": {
   "codemirror_mode": {
    "name": "ipython",
    "version": 3
   },
   "file_extension": ".py",
   "mimetype": "text/x-python",
   "name": "python",
   "nbconvert_exporter": "python",
   "pygments_lexer": "ipython3",
   "version": "3.12.7"
  }
 },
 "nbformat": 4,
 "nbformat_minor": 5
}
