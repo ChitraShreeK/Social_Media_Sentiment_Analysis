{
 "cells": [
  {
   "cell_type": "code",
   "execution_count": 11,
   "id": "00e50602",
   "metadata": {},
   "outputs": [],
   "source": [
    "import pandas as pd\n",
    "import numpy as np\n",
    "import matplotlib.pyplot as plt\n",
    "import seaborn as sns\n",
    "import nltk\n",
    "from nltk.sentiment import SentimentIntensityAnalyzer"
   ]
  },
  {
   "cell_type": "code",
   "execution_count": 12,
   "id": "cfedc034",
   "metadata": {},
   "outputs": [],
   "source": [
    "# loading the dataset from the previous step\n",
    "df = pd.read_csv(\"../data/processed_reddit_data.csv\")"
   ]
  },
  {
   "cell_type": "code",
   "execution_count": 13,
   "id": "0598a4b1",
   "metadata": {},
   "outputs": [
    {
     "data": {
      "text/html": [
       "<div>\n",
       "<style scoped>\n",
       "    .dataframe tbody tr th:only-of-type {\n",
       "        vertical-align: middle;\n",
       "    }\n",
       "\n",
       "    .dataframe tbody tr th {\n",
       "        vertical-align: top;\n",
       "    }\n",
       "\n",
       "    .dataframe thead th {\n",
       "        text-align: right;\n",
       "    }\n",
       "</style>\n",
       "<table border=\"1\" class=\"dataframe\">\n",
       "  <thead>\n",
       "    <tr style=\"text-align: right;\">\n",
       "      <th></th>\n",
       "      <th>cleaned_text</th>\n",
       "      <th>topic</th>\n",
       "    </tr>\n",
       "  </thead>\n",
       "  <tbody>\n",
       "    <tr>\n",
       "      <th>0</th>\n",
       "      <td>kimmel make meaning person donat kirk famili t...</td>\n",
       "      <td>Other Concern Related</td>\n",
       "    </tr>\n",
       "    <tr>\n",
       "      <th>1</th>\n",
       "      <td>compani never address chairman abus virginia g...</td>\n",
       "      <td>Other Concern Related</td>\n",
       "    </tr>\n",
       "    <tr>\n",
       "      <th>2</th>\n",
       "      <td>kneel totalitarian save skin stupid simpli mov...</td>\n",
       "      <td>Other Concern Related</td>\n",
       "    </tr>\n",
       "    <tr>\n",
       "      <th>3</th>\n",
       "      <td>sinclair lift suspens jimmi kimmel live statio...</td>\n",
       "      <td>Other Concern Related</td>\n",
       "    </tr>\n",
       "    <tr>\n",
       "      <th>4</th>\n",
       "      <td>never enough peopl appeas authoritarian polit ...</td>\n",
       "      <td>Political Related</td>\n",
       "    </tr>\n",
       "  </tbody>\n",
       "</table>\n",
       "</div>"
      ],
      "text/plain": [
       "                                        cleaned_text                  topic\n",
       "0  kimmel make meaning person donat kirk famili t...  Other Concern Related\n",
       "1  compani never address chairman abus virginia g...  Other Concern Related\n",
       "2  kneel totalitarian save skin stupid simpli mov...  Other Concern Related\n",
       "3  sinclair lift suspens jimmi kimmel live statio...  Other Concern Related\n",
       "4  never enough peopl appeas authoritarian polit ...      Political Related"
      ]
     },
     "execution_count": 13,
     "metadata": {},
     "output_type": "execute_result"
    }
   ],
   "source": [
    "df_copy = df.copy()\n",
    "df_copy.head()"
   ]
  },
  {
   "cell_type": "markdown",
   "id": "6e2c5773",
   "metadata": {},
   "source": [
    "#### starting with the 'Sentiment Analysis' using VADER which is a part of `nltk` library"
   ]
  },
  {
   "cell_type": "code",
   "execution_count": null,
   "id": "a3a37d0c",
   "metadata": {},
   "outputs": [],
   "source": [
    "nltk.download('vader_lexicon')"
   ]
  },
  {
   "cell_type": "code",
   "execution_count": 16,
   "id": "fb6accd9",
   "metadata": {},
   "outputs": [
    {
     "name": "stdout",
     "output_type": "stream",
     "text": [
      "                                        cleaned_text                  topic  \\\n",
      "0  kimmel make meaning person donat kirk famili t...  Other Concern Related   \n",
      "1  compani never address chairman abus virginia g...  Other Concern Related   \n",
      "2  kneel totalitarian save skin stupid simpli mov...  Other Concern Related   \n",
      "3  sinclair lift suspens jimmi kimmel live statio...  Other Concern Related   \n",
      "4  never enough peopl appeas authoritarian polit ...      Political Related   \n",
      "5                        well sinclair farright turd  Other Concern Related   \n",
      "6  note jimmi didnt say anyth disparag kirk put j...      Political Related   \n",
      "7  jimmi kimmel walk away sue disney remaind cont...  Other Concern Related   \n",
      "8       welp never watch abc regardless happen jimmi  Other Concern Related   \n",
      "9                                   guy america fuck  Other Concern Related   \n",
      "\n",
      "   sentiment_score  \n",
      "0           0.0000  \n",
      "1           0.0000  \n",
      "2          -0.5106  \n",
      "3           0.2960  \n",
      "4           0.0000  \n",
      "5           0.2732  \n",
      "6          -0.2500  \n",
      "7           0.0000  \n",
      "8           0.0000  \n",
      "9          -0.5423  \n"
     ]
    }
   ],
   "source": [
    "# initializing the VADER sentiment analyzer\n",
    "analyzer = SentimentIntensityAnalyzer()\n",
    "\n",
    "# function to get the sentiment score\n",
    "def get_sentiment_score(text):\n",
    "  if not isinstance(text, str):\n",
    "    return None\n",
    "  return analyzer.polarity_scores(text)['compound']\n",
    "\n",
    "df_copy['sentiment_score'] = df_copy['cleaned_text'].apply(get_sentiment_score)\n",
    "\n",
    "print(df_copy.head(10))"
   ]
  },
  {
   "cell_type": "markdown",
   "id": "cf1d755b",
   "metadata": {},
   "source": [
    "**Analysis:**\n",
    "- row number 0, 1, 4, 7, 8 have positive score which indicates the positive tone\n",
    "- row number 2, 6, 9 have negative score indicates negative tone\n",
    "- rows with a score 0.0 indicates the netural tone"
   ]
  },
  {
   "cell_type": "code",
   "execution_count": 17,
   "id": "48123993",
   "metadata": {},
   "outputs": [
    {
     "name": "stdout",
     "output_type": "stream",
     "text": [
      "                           topic  sentiment_score\n",
      "0                     AI Related         0.046235\n",
      "1         AI and Privacy Related         0.048647\n",
      "2          Other Concern Related        -0.010486\n",
      "3              Political Related        -0.087601\n",
      "4                Privacy Related        -0.023920\n",
      "5  Privacy and Political Related        -0.120059\n"
     ]
    }
   ],
   "source": [
    "# grouping by 'topic' and calculating the average sentiment score\n",
    "topic_sentiment = df_copy.groupby('topic')['sentiment_score'].mean().reset_index()\n",
    "print(topic_sentiment)"
   ]
  },
  {
   "cell_type": "markdown",
   "id": "c0683a10",
   "metadata": {},
   "source": [
    "**Analysis:**\n",
    "- From the sentiment score, the `AI Related` and `AI and Privacy Related` topics have positive average sentiment scores `0.04`. This suggests community towards AI is slightly positive\n",
    "- For `Privacy and Political Related` topics have the most negative scores `-0.12`. This shows the discussions about politics and privacy related in the `r/technology` subreddit are often critical or contentious\n",
    "- But when its only about `Privacy Related` the tone is slightly negative to neutral."
   ]
  },
  {
   "cell_type": "code",
   "execution_count": null,
   "id": "66fb0de5",
   "metadata": {},
   "outputs": [],
   "source": []
  }
 ],
 "metadata": {
  "kernelspec": {
   "display_name": "sentiment_env",
   "language": "python",
   "name": "python3"
  },
  "language_info": {
   "codemirror_mode": {
    "name": "ipython",
    "version": 3
   },
   "file_extension": ".py",
   "mimetype": "text/x-python",
   "name": "python",
   "nbconvert_exporter": "python",
   "pygments_lexer": "ipython3",
   "version": "3.12.7"
  }
 },
 "nbformat": 4,
 "nbformat_minor": 5
}
